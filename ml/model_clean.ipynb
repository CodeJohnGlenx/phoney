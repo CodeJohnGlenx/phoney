{
 "cells": [
  {
   "cell_type": "code",
   "execution_count": 1269,
   "metadata": {},
   "outputs": [],
   "source": [
    "import pandas as pd\n",
    "import re\n",
    "from sklearn.ensemble import RandomForestClassifier\n",
    "from sklearn.model_selection import train_test_split\n",
    "from sklearn.metrics import accuracy_score, f1_score, precision_score, recall_score\n",
    "import category_encoders as ce\n",
    "import random\n",
    "from sklearn.model_selection import cross_validate\n",
    "from sklearn.preprocessing import OrdinalEncoder\n",
    "from sklearn.preprocessing import LabelEncoder\n",
    "from sklearn.preprocessing import OneHotEncoder\n",
    "from sklearn.model_selection import RandomizedSearchCV\n",
    "import joblib\n",
    "import numpy as np\n"
   ]
  },
  {
   "cell_type": "code",
   "execution_count": 1270,
   "metadata": {},
   "outputs": [],
   "source": [
    "products_df = pd.read_csv('data/products_full.csv')  \n",
    "labels_df = pd.read_csv('data/product_labels.csv')  \n",
    "products_df['y'] = labels_df['label']\n",
    "\n",
    "# check product dataframe head\n",
    "#products_df.head()"
   ]
  },
  {
   "cell_type": "code",
   "execution_count": 1300,
   "metadata": {},
   "outputs": [
    {
     "data": {
      "text/plain": [
       "Index(['id', 'sold', 'url', 'name', 'current_price', 'original_price',\n",
       "       'discount_price', 'average_rating', 'rating_count', 'five_star',\n",
       "       'four_star', 'three_star', 'two_star', 'one_star', 'seller_rating',\n",
       "       'chat_response', 'ship_time_rate', 'specs', 'y', 'rom', 'brand',\n",
       "       'num_camera', 'ppi', 'vid_resolution', 'ram', 'screen_size_inch',\n",
       "       'phone_type', 'battery_capacity', 'warranty', 'resolution', 'condition',\n",
       "       'warranty_type', 'operating_system'],\n",
       "      dtype='object')"
      ]
     },
     "execution_count": 1300,
     "metadata": {},
     "output_type": "execute_result"
    }
   ],
   "source": [
    "products_df.columns"
   ]
  },
  {
   "cell_type": "code",
   "execution_count": 1272,
   "metadata": {},
   "outputs": [],
   "source": [
    "# remove non-numeric characters sold column\n",
    "# convert sold column to int\n",
    "pattern = r'[^\\d]'\n",
    "sold_column = products_df['sold'].str.replace(pattern, '', regex=True)\n",
    "products_df['sold'] = sold_column.astype(int)"
   ]
  },
  {
   "cell_type": "code",
   "execution_count": 1273,
   "metadata": {},
   "outputs": [],
   "source": [
    "# remove non-numeric characters current price column\n",
    "# convert current price to float\n",
    "pattern = r'[^\\d.]'\n",
    "current_price_column = products_df['current_price'].str.replace(pattern, '', regex=True).astype(float)\n",
    "products_df.current_price = current_price_column"
   ]
  },
  {
   "cell_type": "code",
   "execution_count": 1274,
   "metadata": {},
   "outputs": [],
   "source": [
    "# remove non-numeric characters discount_price column\n",
    "# convert discount price to float\n",
    "pattern = r'[^\\d]'\n",
    "discount_price_column = products_df['discount_price'].str.replace(pattern, '', regex=True).astype(float) / 100\n",
    "products_df['discount_price'] = discount_price_column"
   ]
  },
  {
   "cell_type": "code",
   "execution_count": 1275,
   "metadata": {},
   "outputs": [],
   "source": [
    "# remove non-numeric characters ratings count column\n",
    "# convert ratings count to int\n",
    "pattern = r'[^\\d]'\n",
    "products_df['rating_count'] = products_df['rating_count'].str.replace(pattern, '', regex=True).astype(int)"
   ]
  },
  {
   "cell_type": "code",
   "execution_count": 1276,
   "metadata": {},
   "outputs": [],
   "source": [
    "# remove non-numeric characters seller_rating, chat_response, and ship_time_rate\n",
    "# convert seller_rating, chat_response, and ship_time_rate\n",
    "pattern = r'[^\\d]'\n",
    "products_df['seller_rating'] = products_df['seller_rating'].str.replace(pattern, '', regex=True).astype(str)\n",
    "products_df['chat_response'] = products_df['chat_response'].str.replace(pattern, '', regex=True).astype(str)\n",
    "products_df['ship_time_rate'] = products_df['ship_time_rate'].str.replace(pattern, '', regex=True).astype(str)"
   ]
  },
  {
   "cell_type": "code",
   "execution_count": 1277,
   "metadata": {},
   "outputs": [],
   "source": [
    "# set empty values of seller_rating, chat_response, and ship_time_rate to '0'\n",
    "products_df.loc[products_df['seller_rating'] == '', 'seller_rating'] = '0'\n",
    "products_df.loc[products_df['chat_response'] == '', 'chat_response'] = '0'\n",
    "products_df.loc[products_df['ship_time_rate'] == '', 'ship_time_rate'] = '0'"
   ]
  },
  {
   "cell_type": "code",
   "execution_count": 1278,
   "metadata": {},
   "outputs": [],
   "source": [
    "# convert to seller_rating, chat_response, and ship_time_rate to decimal\n",
    "products_df['seller_rating'] = products_df['seller_rating'].astype(float)  \n",
    "products_df['chat_response'] = products_df['chat_response'].astype(float)\n",
    "products_df['ship_time_rate'] = products_df['ship_time_rate'].astype(float) \n",
    "#products_df.head()"
   ]
  },
  {
   "cell_type": "code",
   "execution_count": 1279,
   "metadata": {},
   "outputs": [],
   "source": [
    "# set NaN values to 'no value'\n",
    "\n",
    "products_df.loc[products_df['specs'].isnull(), 'specs'] = '0'\n",
    "products_df.loc[products_df['name'].isnull(), 'name'] = '0'\n",
    "products_df['specs'] = products_df['specs'].astype(str)"
   ]
  },
  {
   "cell_type": "code",
   "execution_count": 1280,
   "metadata": {},
   "outputs": [],
   "source": [
    "# remove non-ascii characters from specs\n",
    "pattern = r'[^\\x00-\\x7F]'\n",
    "products_df['specs'] = products_df['specs'].str.replace(pattern, '', regex=True).astype(str)"
   ]
  },
  {
   "cell_type": "code",
   "execution_count": 1281,
   "metadata": {},
   "outputs": [],
   "source": [
    "# remove non-ascii characters from product name\n",
    "pattern = r'[^\\x00-\\x7F]'\n",
    "products_df['name'] = products_df['name'].str.replace(pattern, '', regex=True).astype(str)\n",
    "\n",
    "# lowercase name feature\n",
    "products_df['name'] = products_df['name'].str.lower()\n",
    "\n",
    "# remove whitespace name feature\n",
    "products_df['name'] = products_df['name'].str.replace(' ', '')\n",
    "\n",
    "#products_df['name']\n"
   ]
  },
  {
   "cell_type": "code",
   "execution_count": 1282,
   "metadata": {},
   "outputs": [],
   "source": [
    "# engineer rom feature from name feature\n",
    "\n",
    "products_df['rom'] = 'unknown'\n",
    "products_df.loc[products_df['name'].str.contains('512gb'), 'rom'] = '512gb'\n",
    "products_df.loc[products_df['name'].str.contains('256gb'), 'rom'] = '256gb'\n",
    "products_df.loc[products_df['name'].str.contains('128gb'), 'rom'] = '64gb-128gb'\n",
    "products_df.loc[products_df['name'].str.contains('64gb'), 'rom'] = '64gb-128gb'\n",
    "products_df.loc[products_df['name'].str.contains('32gb'), 'rom'] = '<64gb'"
   ]
  },
  {
   "cell_type": "code",
   "execution_count": 1283,
   "metadata": {},
   "outputs": [],
   "source": [
    "# generate new features from specs feature\n",
    "columns = ['brand', 'num_camera', 'ppi', 'vid_resolution', 'ram', 'screen_size_inch', 'phone_type', \n",
    "           'battery_capacity', 'warranty', 'resolution', 'condition', 'warranty_type', 'operating_system']\n",
    "\n",
    "patterns = [r'Brand\\t[^\\t]+', r'Number_of_Camera\\t[^\\t]+', r'PPI\\t[^\\t]+', r'Video Resolution\\t[^\\t]+', \n",
    "            r'RAM Memory [(]Gb[)]\\t[^\\t]+', r'Screen Size [(]inches[)]\\t[^\\t]+', r'Phone Type\\t[^\\t]+',\n",
    "            r'Battery Capacity\\t[^\\t]+', r'warranty\\t[^\\t]+', r'Resolution\\t[^\\t]+', r'Condition\\t[^\\t]+',\n",
    "            r'Warranty Type\\t[^\\t]+', r'Operating System\\t[^\\t]+']\n",
    "\n",
    "specs_prefix = ['Brand\\t', 'Number_of_Camera\\t', 'PPI\\t', 'Video Resolution\\t', \n",
    "                'RAM Memory (Gb)\\t', 'Screen Size (inches)\\t', 'Phone Type\\t', 'Battery Capacity\\t',\n",
    "                'warranty\\t', 'Resolution\\t', 'Condition\\t', 'Warranty Type\\t', 'Operating System\\t']\n",
    "\n",
    "for i in range(len(columns)):\n",
    "    col_series = products_df['specs'].str.findall(patterns[i]).str.join('').str.replace(specs_prefix[i], '')\n",
    "    products_df[columns[i]] = col_series"
   ]
  },
  {
   "cell_type": "code",
   "execution_count": 1284,
   "metadata": {},
   "outputs": [],
   "source": [
    "# strip and lower feature values\n",
    "columns = ['brand', 'num_camera', 'ppi', 'vid_resolution', 'ram', 'screen_size_inch', 'phone_type', \n",
    "           'battery_capacity', 'warranty', 'resolution', 'condition', 'warranty_type', 'operating_system']\n",
    "\n",
    "for col in columns:\n",
    "    products_df[col] = products_df[col].str.lower().str.strip().replace('', '0')"
   ]
  },
  {
   "cell_type": "code",
   "execution_count": 1285,
   "metadata": {},
   "outputs": [],
   "source": [
    "# pre-processing brand feature\n",
    "\n",
    "brands = ['huawei', 'philips', 'no brand', 'vivo', 'nokia',\n",
    "       'samsung', 'oppo', 'cherry', 'telego', '0', 'lenovo', 'xiaomi', 'hyundai', 'realme',\n",
    "        'motorola', 'tecno','infinix', 'poco', 'meizu', 'oneplus', 'myphone', 'lg', 'apple']\n",
    "\n",
    "# change not popular and intriguing brands to 'others'\n",
    "products_df.loc[~products_df['brand'].isin(brands), 'brand'] = 'others'\n",
    "\n",
    "# change '0' brands to 'no brand' \n",
    "products_df.loc[products_df['brand'].eq('0'), 'brand'] = 'no brand'\n",
    "\n",
    "#print('brand classes:')\n",
    "#print(products_df['brand'].unique())\n"
   ]
  },
  {
   "cell_type": "code",
   "execution_count": 1286,
   "metadata": {},
   "outputs": [],
   "source": [
    "# pre-processing num_camera feature \n",
    "\n",
    "cameras = ['0', 'single', 'dual', 'triple', 'quad', \n",
    "       'zero', 'none']\n",
    "\n",
    "no_cameras = ['0', 'zero', 'none']\n",
    "\n",
    "# set zero or no cameras to 'zero'\n",
    "products_df.loc[products_df['num_camera'].isin(no_cameras), 'num_camera'] = 'zero'\n",
    "\n",
    "# set other values of num_cameras to 'others' \n",
    "products_df.loc[~products_df['num_camera'].isin(cameras), 'num_camera'] = 'unknown'\n",
    "\n",
    "#print('number of camera classes:')\n",
    "#print(products_df['num_camera'].unique())\n"
   ]
  },
  {
   "cell_type": "code",
   "execution_count": 1287,
   "metadata": {},
   "outputs": [],
   "source": [
    "# pre-processing RAM feature\n",
    "\n",
    "products_df['ram'].unique()\n",
    "ram_classes = ['<2gb', '2gb-4gb', '5gb-8gb', '>8gb', 'unknown']\n",
    "\n",
    "# <2gb\n",
    "products_df.loc[products_df['ram'].isin(['1gb', '512mb & under', '512']), 'ram'] = ram_classes[0]\n",
    "\n",
    "# '2gb-4gb'\n",
    "products_df.loc[products_df['ram'].isin(['2gb', '4gb', '4/64', '3gb', '3', '3gb or 4gb']), 'ram'] = ram_classes[1]\n",
    "\n",
    "'5gb-8gb'\n",
    "products_df.loc[products_df['ram'].isin(['8gb', '6gb', '8']), 'ram'] = ram_classes[2]\n",
    "\n",
    "'>8gb'\n",
    "products_df.loc[products_df['ram'].isin(['8gb+5gb', '16gb', '12gb', '12g']), 'ram'] = ram_classes[3]\n",
    "\n",
    "'0'\n",
    "products_df.loc[products_df['ram'].isin([ '0', 'other',]), 'ram'] = ram_classes[4]\n",
    "\n",
    "#print('RAM classes:')\n",
    "#print(products_df['ram'].unique())"
   ]
  },
  {
   "cell_type": "code",
   "execution_count": 1288,
   "metadata": {},
   "outputs": [],
   "source": [
    "# pre-processing warranty feature\n",
    "\n",
    "products_df.loc[products_df['warranty'].str.contains('year'), 'warranty'] = \">= 1year\"\n",
    "products_df.loc[products_df['warranty'].str.contains('month'), 'warranty'] = \">= 1month < 1year\"\n",
    "products_df.loc[products_df['warranty'].str.contains('day'), 'warranty'] = \"< 1 month\"\n",
    "products_df.loc[products_df['warranty'] == '0', 'warranty'] = \"no warranty\"\n",
    "#products_df['warranty'].unique()\n"
   ]
  },
  {
   "cell_type": "code",
   "execution_count": 1289,
   "metadata": {},
   "outputs": [],
   "source": [
    "# pre-processing warranty_type feature\n",
    "\n",
    "products_df.loc[products_df['warranty_type'].str.contains('local'), 'warranty_type'] = \"local warranty\"\n",
    "products_df.loc[products_df['warranty_type'].str.contains('international'), 'warranty_type'] = \"international warranty\"\n",
    "products_df.loc[products_df['warranty_type'] == '0', 'warranty_type'] = \"no warranty\"\n",
    "#products_df['warranty_type'].unique()"
   ]
  },
  {
   "cell_type": "code",
   "execution_count": 1290,
   "metadata": {},
   "outputs": [],
   "source": [
    "products_df.loc[products_df['battery_capacity']\n",
    "                .isin(['under 1000 mah', '1000 - 1999 mah', '1000 mah to 5000 mah', '800 mah', \n",
    "                      '1500', '500 mah']), 'battery_capacity'] = \"< 2000 mah\"\n",
    "\n",
    "products_df.loc[products_df['battery_capacity']\n",
    "                .isin(['2000 - 2999 mah', '2800 mah', '3000 - 3999 mah', 'li-po 3400',\n",
    "                      '3000', '3400', '3020', '3000 mah', '3340', '2500 mah', '3400mah',\n",
    "                      '3070mah', '3300mah', '3340mah', '3260mah', 'li-ion 3080 mah', \n",
    "                      '3000mah', '3315 mah', '3260 mah', '3180 mah', '2630mah','3315mah']), 'battery_capacity'] = \">= 2000 mah < 4000 mah\"\n",
    "\n",
    "products_df.loc[products_df['battery_capacity']\n",
    "                .isin(['50001 mah and up',  '6000 mah', '4000 mah', '4000 - 4999 mah', '5000 mah & above',\n",
    "                'li-po 5000 mah',  '4000', '4230-5000 mah', '5800mah','4800 mah & above',\n",
    "                '4400 mah', '5000mah',  '4500', '5000', '5000 mah', '4100 mah',\n",
    "                '4230mah', '4230', '4500 mah', '4500mah', '4030 mah', '4020 mah', '4030']), 'battery_capacity'] = \">= 4000 mah < 6000 mah\"\n",
    "\n",
    "products_df.loc[products_df['battery_capacity']\n",
    "                .isin(['10000mah', '10001 mah to 20000 mah', '6000', '6000mah']), \n",
    "                'battery_capacity'] = \"6000 mah above\"\n",
    "\n",
    "products_df.loc[products_df['battery_capacity'] == '0', 'battery_capacity'] = \"unknown\""
   ]
  },
  {
   "cell_type": "code",
   "execution_count": 1291,
   "metadata": {},
   "outputs": [],
   "source": [
    "# remove samples that has not_applicable label\n",
    "products_df = products_df[products_df[\"y\"].str.contains(\"not applicable\") == False]"
   ]
  },
  {
   "cell_type": "code",
   "execution_count": 1292,
   "metadata": {},
   "outputs": [
    {
     "name": "stderr",
     "output_type": "stream",
     "text": [
      "C:\\Users\\John Glen\\AppData\\Local\\Temp\\ipykernel_37932\\286577345.py:10: SettingWithCopyWarning: \n",
      "A value is trying to be set on a copy of a slice from a DataFrame.\n",
      "Try using .loc[row_indexer,col_indexer] = value instead\n",
      "\n",
      "See the caveats in the documentation: https://pandas.pydata.org/pandas-docs/stable/user_guide/indexing.html#returning-a-view-versus-a-copy\n",
      "  X[categorical_features] = categorical_encoder.fit_transform(X[categorical_features])\n"
     ]
    },
    {
     "data": {
      "text/plain": [
       "['categorical_encoder']"
      ]
     },
     "execution_count": 1292,
     "metadata": {},
     "output_type": "execute_result"
    }
   ],
   "source": [
    "# create encoder for categorical data\n",
    "categorical_features = ['brand', 'warranty', 'warranty_type', 'num_camera', 'battery_capacity', 'ram', 'rom']\n",
    "\n",
    "features = categorical_features\n",
    "X = products_df[features]\n",
    "y = products_df['y']\n",
    "\n",
    "# create categorical encoder\n",
    "categorical_encoder = OrdinalEncoder()\n",
    "X[categorical_features] = categorical_encoder.fit_transform(X[categorical_features])\n",
    "\n",
    "# export categorical encoder\n",
    "joblib.dump(categorical_encoder, 'categorical_encoder')\n"
   ]
  },
  {
   "cell_type": "code",
   "execution_count": 1293,
   "metadata": {},
   "outputs": [
    {
     "data": {
      "text/plain": [
       "['label_encoder']"
      ]
     },
     "execution_count": 1293,
     "metadata": {},
     "output_type": "execute_result"
    }
   ],
   "source": [
    "y = products_df['y'] \n",
    "label_encoder = LabelEncoder()\n",
    "y = label_encoder.fit_transform(y)\n",
    "\n",
    "# export categorical encoder\n",
    "joblib.dump(label_encoder, 'label_encoder')"
   ]
  },
  {
   "cell_type": "code",
   "execution_count": 1294,
   "metadata": {},
   "outputs": [],
   "source": [
    "cat_encoder = joblib.load(\"categorical_encoder\")\n",
    "lab_encoder = joblib.load(\"label_encoder\")\n",
    "\n",
    "#result = cat_encoder.transform([['xiaomi', 'no warranty', 'no warranty', 'quad', '>= 4000 mah < 6000 mah', '>8gb', '64gb-128gb']])"
   ]
  },
  {
   "cell_type": "code",
   "execution_count": 1295,
   "metadata": {},
   "outputs": [
    {
     "name": "stdout",
     "output_type": "stream",
     "text": [
      "Precision score: 92.27\n",
      "Recall score: 92.23\n",
      "F1 score: 92.25\n",
      "Accuracy score: 92.23\n",
      "\n",
      "feature scores:\n",
      "current_price       0.220641\n",
      "discount_price      0.104064\n",
      "sold                0.086334\n",
      "rom                 0.067252\n",
      "five_star           0.067181\n",
      "rating_count        0.064967\n",
      "brand               0.064030\n",
      "four_star           0.059241\n",
      "warranty            0.046391\n",
      "three_star          0.044128\n",
      "average_rating      0.033720\n",
      "num_camera          0.031314\n",
      "battery_capacity    0.030247\n",
      "ram                 0.023577\n",
      "one_star            0.022918\n",
      "warranty_type       0.017472\n",
      "two_star            0.016524\n",
      "dtype: float64\n",
      "\n"
     ]
    }
   ],
   "source": [
    "# model creation\n",
    "\n",
    "numerical_features = ['current_price', 'discount_price', 'sold', 'average_rating', 'rating_count', 'five_star',\n",
    "                      'four_star', 'three_star', 'two_star', 'one_star']\n",
    "categorical_features = ['brand', 'warranty', 'warranty_type', 'num_camera', 'battery_capacity', 'ram', 'rom']\n",
    "\n",
    "features = numerical_features + categorical_features\n",
    "X = products_df[features]\n",
    "y = products_df['y']\n",
    "\n",
    "X_train, X_test, y_train, y_test = train_test_split(X, y, test_size=0.2, random_state=random.randint(0, 100))\n",
    "X_train[categorical_features] = cat_encoder.transform(X_train[categorical_features])\n",
    "X_test[categorical_features] = cat_encoder.transform(X_test[categorical_features])\n",
    "\n",
    "\n",
    "y_train = lab_encoder.transform(y_train)\n",
    "y_test = lab_encoder.transform(y_test)\n",
    "\n",
    "\n",
    "classifier = RandomForestClassifier(random_state=random.randint(0, 100))\n",
    "\n",
    "classifier.fit(X_train, y_train)\n",
    "\n",
    "y_pred = classifier.predict(X_test)\n",
    "\n",
    "# export model \n",
    "joblib.dump(classifier, 'inauth_prod_classifier')\n",
    "\n",
    "# classifier benchmark scores \n",
    "print('Precision score: {0:0.2f}'. format(precision_score(y_test, y_pred, average='weighted') * 100))\n",
    "print('Recall score: {0:0.2f}'. format(recall_score(y_test, y_pred, average='weighted')  * 100))\n",
    "print('F1 score: {0:0.2f}'. format(f1_score(y_test, y_pred, average='weighted') * 100))\n",
    "print('Accuracy score: {0:0.2f}'. format(accuracy_score(y_test, y_pred)  * 100))\n",
    "print()\n",
    "\n",
    "# get feature scores\n",
    "feature_scores = pd.Series(classifier.feature_importances_, index=X_train.columns).sort_values(ascending=False)\n",
    "print('feature scores:')\n",
    "print(feature_scores)\n",
    "print()\n",
    "\n"
   ]
  },
  {
   "cell_type": "code",
   "execution_count": 1296,
   "metadata": {},
   "outputs": [
    {
     "data": {
      "text/html": [
       "<div>\n",
       "<style scoped>\n",
       "    .dataframe tbody tr th:only-of-type {\n",
       "        vertical-align: middle;\n",
       "    }\n",
       "\n",
       "    .dataframe tbody tr th {\n",
       "        vertical-align: top;\n",
       "    }\n",
       "\n",
       "    .dataframe thead th {\n",
       "        text-align: right;\n",
       "    }\n",
       "</style>\n",
       "<table border=\"1\" class=\"dataframe\">\n",
       "  <thead>\n",
       "    <tr style=\"text-align: right;\">\n",
       "      <th></th>\n",
       "      <th>brand</th>\n",
       "      <th>warranty</th>\n",
       "      <th>warranty_type</th>\n",
       "      <th>num_camera</th>\n",
       "      <th>battery_capacity</th>\n",
       "      <th>ram</th>\n",
       "      <th>rom</th>\n",
       "    </tr>\n",
       "  </thead>\n",
       "  <tbody>\n",
       "    <tr>\n",
       "      <th>0</th>\n",
       "      <td>huawei</td>\n",
       "      <td>&lt; 1 month</td>\n",
       "      <td>local warranty</td>\n",
       "      <td>zero</td>\n",
       "      <td>unknown</td>\n",
       "      <td>2gb-4gb</td>\n",
       "      <td>unknown</td>\n",
       "    </tr>\n",
       "    <tr>\n",
       "      <th>1</th>\n",
       "      <td>philips</td>\n",
       "      <td>&gt;= 1month &lt; 1year</td>\n",
       "      <td>local warranty</td>\n",
       "      <td>single</td>\n",
       "      <td>&lt; 2000 mah</td>\n",
       "      <td>unknown</td>\n",
       "      <td>unknown</td>\n",
       "    </tr>\n",
       "    <tr>\n",
       "      <th>2</th>\n",
       "      <td>philips</td>\n",
       "      <td>&gt;= 1year</td>\n",
       "      <td>local warranty</td>\n",
       "      <td>single</td>\n",
       "      <td>&lt; 2000 mah</td>\n",
       "      <td>5gb-8gb</td>\n",
       "      <td>unknown</td>\n",
       "    </tr>\n",
       "    <tr>\n",
       "      <th>3</th>\n",
       "      <td>philips</td>\n",
       "      <td>&gt;= 1year</td>\n",
       "      <td>local warranty</td>\n",
       "      <td>single</td>\n",
       "      <td>&lt; 2000 mah</td>\n",
       "      <td>unknown</td>\n",
       "      <td>unknown</td>\n",
       "    </tr>\n",
       "    <tr>\n",
       "      <th>4</th>\n",
       "      <td>no brand</td>\n",
       "      <td>&gt;= 1month &lt; 1year</td>\n",
       "      <td>local warranty</td>\n",
       "      <td>dual</td>\n",
       "      <td>&lt; 2000 mah</td>\n",
       "      <td>unknown</td>\n",
       "      <td>unknown</td>\n",
       "    </tr>\n",
       "    <tr>\n",
       "      <th>...</th>\n",
       "      <td>...</td>\n",
       "      <td>...</td>\n",
       "      <td>...</td>\n",
       "      <td>...</td>\n",
       "      <td>...</td>\n",
       "      <td>...</td>\n",
       "      <td>...</td>\n",
       "    </tr>\n",
       "    <tr>\n",
       "      <th>1014</th>\n",
       "      <td>poco</td>\n",
       "      <td>&gt;= 1year</td>\n",
       "      <td>local warranty</td>\n",
       "      <td>dual</td>\n",
       "      <td>&gt;= 4000 mah &lt; 6000 mah</td>\n",
       "      <td>&gt;8gb</td>\n",
       "      <td>512gb</td>\n",
       "    </tr>\n",
       "    <tr>\n",
       "      <th>1015</th>\n",
       "      <td>oppo</td>\n",
       "      <td>&gt;= 1year</td>\n",
       "      <td>local warranty</td>\n",
       "      <td>dual</td>\n",
       "      <td>&gt;= 4000 mah &lt; 6000 mah</td>\n",
       "      <td>&gt;8gb</td>\n",
       "      <td>512gb</td>\n",
       "    </tr>\n",
       "    <tr>\n",
       "      <th>1016</th>\n",
       "      <td>tecno</td>\n",
       "      <td>&gt;= 1year</td>\n",
       "      <td>local warranty</td>\n",
       "      <td>triple</td>\n",
       "      <td>&gt;= 4000 mah &lt; 6000 mah</td>\n",
       "      <td>2gb-4gb</td>\n",
       "      <td>64gb-128gb</td>\n",
       "    </tr>\n",
       "    <tr>\n",
       "      <th>1017</th>\n",
       "      <td>others</td>\n",
       "      <td>no warranty</td>\n",
       "      <td>no warranty</td>\n",
       "      <td>dual</td>\n",
       "      <td>&gt;= 4000 mah &lt; 6000 mah</td>\n",
       "      <td>unknown</td>\n",
       "      <td>512gb</td>\n",
       "    </tr>\n",
       "    <tr>\n",
       "      <th>1081</th>\n",
       "      <td>no brand</td>\n",
       "      <td>no warranty</td>\n",
       "      <td>international warranty</td>\n",
       "      <td>quad</td>\n",
       "      <td>&gt;= 4000 mah &lt; 6000 mah</td>\n",
       "      <td>unknown</td>\n",
       "      <td>64gb-128gb</td>\n",
       "    </tr>\n",
       "  </tbody>\n",
       "</table>\n",
       "<p>963 rows × 7 columns</p>\n",
       "</div>"
      ],
      "text/plain": [
       "         brand           warranty           warranty_type num_camera   \n",
       "0       huawei          < 1 month          local warranty       zero  \\\n",
       "1      philips  >= 1month < 1year          local warranty     single   \n",
       "2      philips           >= 1year          local warranty     single   \n",
       "3      philips           >= 1year          local warranty     single   \n",
       "4     no brand  >= 1month < 1year          local warranty       dual   \n",
       "...        ...                ...                     ...        ...   \n",
       "1014      poco           >= 1year          local warranty       dual   \n",
       "1015      oppo           >= 1year          local warranty       dual   \n",
       "1016     tecno           >= 1year          local warranty     triple   \n",
       "1017    others        no warranty             no warranty       dual   \n",
       "1081  no brand        no warranty  international warranty       quad   \n",
       "\n",
       "            battery_capacity      ram         rom  \n",
       "0                    unknown  2gb-4gb     unknown  \n",
       "1                 < 2000 mah  unknown     unknown  \n",
       "2                 < 2000 mah  5gb-8gb     unknown  \n",
       "3                 < 2000 mah  unknown     unknown  \n",
       "4                 < 2000 mah  unknown     unknown  \n",
       "...                      ...      ...         ...  \n",
       "1014  >= 4000 mah < 6000 mah     >8gb       512gb  \n",
       "1015  >= 4000 mah < 6000 mah     >8gb       512gb  \n",
       "1016  >= 4000 mah < 6000 mah  2gb-4gb  64gb-128gb  \n",
       "1017  >= 4000 mah < 6000 mah  unknown       512gb  \n",
       "1081  >= 4000 mah < 6000 mah  unknown  64gb-128gb  \n",
       "\n",
       "[963 rows x 7 columns]"
      ]
     },
     "execution_count": 1296,
     "metadata": {},
     "output_type": "execute_result"
    }
   ],
   "source": [
    "products_df[categorical_features]"
   ]
  },
  {
   "cell_type": "code",
   "execution_count": 1297,
   "metadata": {},
   "outputs": [
    {
     "data": {
      "text/plain": [
       "[1709.0,\n",
       " 0.19,\n",
       " 680,\n",
       " 4.6,\n",
       " 155,\n",
       " 127,\n",
       " 10,\n",
       " 9,\n",
       " 4,\n",
       " 5,\n",
       " 'philips',\n",
       " '>= 1year',\n",
       " 'local warranty',\n",
       " 'single',\n",
       " '< 2000 mah',\n",
       " '5gb-8gb',\n",
       " 'unknown']"
      ]
     },
     "execution_count": 1297,
     "metadata": {},
     "output_type": "execute_result"
    }
   ],
   "source": [
    "X.iloc[2].tolist()"
   ]
  },
  {
   "cell_type": "code",
   "execution_count": 1298,
   "metadata": {},
   "outputs": [
    {
     "data": {
      "text/plain": [
       "array(['6000 mah above', '< 2000 mah', '>= 2000 mah < 4000 mah',\n",
       "       '>= 4000 mah < 6000 mah', 'unknown'], dtype=object)"
      ]
     },
     "execution_count": 1298,
     "metadata": {},
     "output_type": "execute_result"
    }
   ],
   "source": [
    "products_df['battery_capacity'].sort_values().unique()"
   ]
  },
  {
   "cell_type": "code",
   "execution_count": 1299,
   "metadata": {},
   "outputs": [
    {
     "data": {
      "text/plain": [
       "\"\\nfeatures:\\nnumerical_features = ['current_price', 'discount_price', 'sold', \\n                    'average_rating', 'rating_count', 'five_star',\\n                    'four_star', 'three_star', 'two_star', 'one_star']\\n\\ncategorical_features = ['brand', 'warranty', 'warranty_type', 'num_camera', \\n                        'battery_capacity', 'ram', 'rom']\\n\""
      ]
     },
     "execution_count": 1299,
     "metadata": {},
     "output_type": "execute_result"
    }
   ],
   "source": [
    "\"\"\"\n",
    "features:\n",
    "numerical_features = ['current_price', 'discount_price', 'sold', \n",
    "                    'average_rating', 'rating_count', 'five_star',\n",
    "                    'four_star', 'three_star', 'two_star', 'one_star']\n",
    "\n",
    "categorical_features = ['brand', 'warranty', 'warranty_type', 'num_camera', \n",
    "                        'battery_capacity', 'ram', 'rom']\n",
    "\"\"\""
   ]
  },
  {
   "cell_type": "code",
   "execution_count": null,
   "metadata": {},
   "outputs": [],
   "source": []
  }
 ],
 "metadata": {
  "kernelspec": {
   "display_name": "Python 3",
   "language": "python",
   "name": "python3"
  },
  "language_info": {
   "codemirror_mode": {
    "name": "ipython",
    "version": 3
   },
   "file_extension": ".py",
   "mimetype": "text/x-python",
   "name": "python",
   "nbconvert_exporter": "python",
   "pygments_lexer": "ipython3",
   "version": "3.11.0"
  },
  "orig_nbformat": 4
 },
 "nbformat": 4,
 "nbformat_minor": 2
}
